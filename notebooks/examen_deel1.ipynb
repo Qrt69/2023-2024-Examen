{
 "cells": [
  {
   "cell_type": "markdown",
   "metadata": {},
   "source": [
    "# Examen Python data developer\n",
    "# Deel 1\n",
    "## Introductie\n",
    "Voor dit examen is het belangrijk dat je volgende zaken zeker doet:\n",
    " - Maak een Vitual Environment aan & exporteer een `.yml` (of soortgelijke) file aan die je toevoegt aan je codebase.\n",
    " - Maak een github pagina aan met een bijhorende `.gitignore` en `readme.md`. Voeg een link naar de github repo toe aan je readme file.\n",
    " - Zorg dat je op het einde de tijd neemt om je code op te schonen zodat deze begrijpelijk is voor derden.\n",
    " - Wanneer je klaar bent, maak een `.zip` bestand van je volledige codebase aan en laad deze op in de leeromgeving.\n",
    "\n",
    "In deze opgave bekijken we een gesimuleerde dataset over de geboortes in België van 2019. De data is te vinden in `.csv` bestanden die gelabeld zijn met de echte geboortedag van de personen in het bestand. Laat ons bijvoorbeeld even kijken naar de eerste 5 lijnen van het bestand `2019-1-1.csv`:\n",
    "\n",
    "<table align=\"center\">\n",
    "  <tr>\n",
    "    <th>gemeente</th>\n",
    "    <th>naam</th>\n",
    "    <th>geslacht</th>\n",
    "    <th>verwachte datum</th>\n",
    "  </tr>\n",
    "  <tr>\n",
    "    <td>Hooglede</td>\n",
    "    <td>Elias</td>\n",
    "    <td>Mannelijk</td>\n",
    "    <td>01/14/2019</td>\n",
    "  </tr>\n",
    "  <tr>\n",
    "    <td>Sint-Niklaas (Sint-Niklaas)</td>\n",
    "    <td>Pauline</td>\n",
    "    <td>Vrouwelijk</td>\n",
    "    <td>01/05/2019</td>\n",
    "  </tr>\n",
    "  <tr>\n",
    "    <td>Wijnegem</td>\n",
    "    <td>Anita</td>\n",
    "    <td>Vrouwelijk</td>\n",
    "    <td>01/05/2019</td>\n",
    "  </tr>\n",
    "  <tr>\n",
    "    <td>Grâce-Hollogne</td>\n",
    "    <td>Jean-Paul</td>\n",
    "    <td>Mannelijk</td>\n",
    "    <td>01/13/2019</td>\n",
    "  </tr>\n",
    "  <tr>\n",
    "    <td>Boussu</td>\n",
    "    <td>François</td>\n",
    "    <td>Mannelijk</td>\n",
    "    <td>01/26/2019</td>\n",
    "  </tr>\n",
    "</table>\n",
    "\n",
    "\n",
    "Hier hebben we de kolommen:\n",
    " - **gemeente**: De gemeente waar de persoon geboren is.\n",
    " - **naam**: De voornaam van de persoon.\n",
    " - **geslacht**: Het geslacht van de persoon (Mannelijk of Vrouwelijk).\n",
    " - **verwachte datum**: De verwachte geboortedatum van de persoon.\n",
    "\n",
    "Dus hier hebben we dan bijvoorbeeld op de eerste lijn de mannelijke persoon Elias die geboren is in Hooglede waarvan men verwachtte dat hij zou geboren worden op `01/14/2019` (Amerikaans formaat) maar in feite geboren is op 1 januari 2019.\n",
    "\n",
    "Doorheen deze opgave gaan we de data van dichterbij inspecteren! Je kan deze opgaves alternatief lezen in de bijgeleverde notebook `examen.ipynb` waar ook de (meeste) afbeeldingen & resultaten zichtbaar zijn."
   ]
  },
  {
   "cell_type": "code",
   "metadata": {},
   "source": [
    "# Import packages\n",
    "import sys\n",
    "import os\n",
    "import numpy as np\n",
    "import pandas as pd\n",
    "import datetime\n",
    "import matplotlib.pyplot as plt\n",
    "\n",
    "\n",
    "# Definieer data locaties\n",
    "os.getcwd()\n",
    "data_loc = os.path.join('..', 'data', 'geboortes')\n",
    "os.listdir(data_loc)"
   ],
   "outputs": [],
   "execution_count": null
  },
  {
   "cell_type": "markdown",
   "metadata": {},
   "source": [
    "## Utilities"
   ]
  },
  {
   "cell_type": "code",
   "metadata": {},
   "source": [
    "def to_percentage(number):\n",
    "    return str(np.round(number * 100, 2)) + \"%\"\n",
    "\n",
    "def compute_num_unique(df, n_births):\n",
    "    return len(np.unique(df['naam'].sample(n_births)))"
   ],
   "outputs": [],
   "execution_count": null
  },
  {
   "cell_type": "markdown",
   "metadata": {},
   "source": [
    "## Stap 1: data inlezen\n",
    "\n",
    "Maak een lus over alle bestanden in de map `data/geboortes`, lees elk `.csv` bestand in en voeg deze samen tot 1 grote DataFrame. Merk op dat de datum verwerkt zit in de filename, voeg deze toe aan de kleine DataFrames voor je de dataframes samenvoegt met een `pd.concat(dfs)`.\n",
    "\n",
    "Voeg een extra kolom toe met een `\"dag van het jaar\"` getal, dus 1 januari 2019 is `1`, 2 januari 2019 is `2`, enzovoort.\n",
    "\n",
    "**Opmerking**: Er is ook data voor 29 februari 2019, terwijl dit geen schrikkeljaar is! Plaats deze geboortes in een afzonderlijke DataFrame `df_wrong`. Zet in `df_wrong` een extra kolom met een referentie naar waarom deze data foutief is."
   ]
  },
  {
   "cell_type": "code",
   "metadata": {},
   "source": [
    "dfs = list()\n",
    "dfs2 = list()\n",
    "for file in os.listdir(data_loc):\n",
    "    df = pd.read_csv(os.path.join(data_loc, file))\n",
    "    day = file.replace('.csv', '')\n",
    "    if day != '2019-2-29':\n",
    "        date_object = datetime.datetime.strptime(day, '%Y-%m-%d')\n",
    "        time_tuple = date_object.timetuple()\n",
    "        day_of_year = time_tuple.tm_yday\n",
    "        df['day_of_year'] = int(day_of_year)\n",
    "        dfs.append(df)\n",
    "    else:\n",
    "        df['reason'] = 'Onbestaande datum'\n",
    "        dfs2.append(df)\n",
    "\n",
    "df_births = pd.concat(dfs)\n",
    "df_wrong = pd.concat(dfs2)\n",
    "\n",
    "df_births = df_births.sort_values(by='day_of_year')\n",
    "\n"
   ],
   "outputs": [],
   "execution_count": null
  },
  {
   "metadata": {},
   "cell_type": "code",
   "source": "df_births.tail(10)",
   "outputs": [],
   "execution_count": null
  },
  {
   "cell_type": "markdown",
   "metadata": {},
   "source": [
    "## Stap 2: Dagelijks aantal geboortes bekijken\n",
    "#### Vraag 1: Maak een plot van het aantal geboortes per dag van het jaar. "
   ]
  },
  {
   "metadata": {},
   "cell_type": "code",
   "source": "",
   "outputs": [],
   "execution_count": null
  },
  {
   "cell_type": "code",
   "metadata": {},
   "source": [
    "df_births_per_day = df_births.groupby('day_of_year').count()\n",
    "fig, ax = plt.subplots(figsize = (12, 6))\n",
    "df_births_per_day.plot.line(ax=ax);  "
   ],
   "outputs": [],
   "execution_count": null
  },
  {
   "metadata": {},
   "cell_type": "code",
   "source": "df_births_per_day = df_births_per_day[['gemeente']].rename({'gemeente': 'Aantal'}, axis=1)\n",
   "outputs": [],
   "execution_count": null
  },
  {
   "cell_type": "markdown",
   "metadata": {},
   "source": [
    "#### Vraag 2: Outliers vinden & behandelen\n",
    "\n",
    "We klassificeren een datum als een outlier als het aantal geboortes meer dan `50%` afwijkt van de gemiddelde waarde overheen de volledige dataset. Zoek alle outliers in de dataset."
   ]
  },
  {
   "metadata": {},
   "cell_type": "code",
   "source": [
    "# Berekenen van globale gemiddelde over alle dagen\n",
    "overall_mean = df_births_per_day['Aantal'].mean()\n",
    "\n",
    "# Onder- en bovengrens\n",
    "max_limit = overall_mean * 1.5\n",
    "min_limit = overall_mean * 0.5\n",
    "\n",
    "# Convert 'Aantal' column to integers\n",
    "df_births_per_day['Aantal'] = df_births_per_day['Aantal'].astype(int)\n",
    "\n",
    "# outliers\n",
    "df_outliers = df_births_per_day[(df_births_per_day['Aantal'] > max_limit) | (df_births_per_day['Aantal'] < min_limit)]\n",
    "\n"
   ],
   "outputs": [],
   "execution_count": null
  },
  {
   "cell_type": "markdown",
   "metadata": {},
   "source": [
    "Ik zal je vertellen; de outliers op 1 januari en 1 juli komen doordat alle geboortes waarvoor de datum niet correct genoteerd is, de datum 1 januari (voor de eerste helft van het jaar) en op 1 juli (voor de tweede helft van het jaar) geplaatst worden. Om dit op te lossen, halen we in de grote geboortes DataFrame (met 1 lijn per geboorte) deze twee datums er volledig uit. Dus we gaan **alle** geboortes van 1 januari en 1 juli verwijderen uit deze dataframe en toevoegen aan de `df_wrong` dataframe met als reden `2019-01-01` en `2019-07-01`."
   ]
  },
  {
   "cell_type": "code",
   "metadata": {},
   "source": [
    "df_outliers['reason'] = 'Outlier' \n",
    "df_wrong = pd.concat([df_wrong, df_outliers])\n",
    "df_births_per_day_cleaned = df_births_per_day[~df_births_per_day.index.isin([1, 182])]\n"
   ],
   "outputs": [],
   "execution_count": null
  },
  {
   "cell_type": "markdown",
   "metadata": {},
   "source": [
    "Maak dezelfde plot nu opnieuw met het aantal geboortes per dag."
   ]
  },
  {
   "cell_type": "code",
   "metadata": {},
   "source": [
    "fig, ax = plt.subplots(figsize = (12, 6))\n",
    "df_births_per_day_cleaned.plot.line(ax=ax);"
   ],
   "outputs": [],
   "execution_count": null
  },
  {
   "cell_type": "markdown",
   "metadata": {},
   "source": [
    " We zien dat er nog steeds redelijk wat uitschieters zijn, kan je code schrijven om de 5 extreme uitschieters in de 2e helft van het jaar identificeren (in totaal 8 datums)?"
   ]
  },
  {
   "cell_type": "code",
   "metadata": {},
   "source": [],
   "outputs": [],
   "execution_count": null
  },
  {
   "cell_type": "markdown",
   "metadata": {},
   "source": [
    "### Bonusvraag: wekelijkse verbanden\n",
    "\n",
    "We zien vele pieken en dalen in de evolutie van het aantal geboortes. We willen deze grafiek graag iets \"gladder\" maken. Kan je hiervoor eens een visualizatie maken van het **gemiddeld** aantal geboortes per week (dit voor elke week, dus maandag-maandag, dinsdag-dinsdag, woensdag-woensdag, ...)."
   ]
  },
  {
   "cell_type": "code",
   "metadata": {},
   "source": [],
   "outputs": [],
   "execution_count": null
  },
  {
   "cell_type": "markdown",
   "metadata": {},
   "source": [
    "Dat ziet er al een stuk mooier uit!  We zien ook een aantal duidelijk dips & pieken verschijnen die we eerder niet zagen. We kunnen nu ook even kijken naar het gemiddeld aantal geboortes per dag van de week! Misschien worden er wel gewoon veel minder mensen geboren op zondag dan een andere dag?"
   ]
  },
  {
   "cell_type": "code",
   "metadata": {},
   "source": [],
   "outputs": [],
   "execution_count": null
  }
 ],
 "metadata": {
  "kernelspec": {
   "display_name": "Python 3 (ipykernel)",
   "language": "python",
   "name": "python3"
  },
  "language_info": {
   "codemirror_mode": {
    "name": "ipython",
    "version": 3
   },
   "file_extension": ".py",
   "mimetype": "text/x-python",
   "name": "python",
   "nbconvert_exporter": "python",
   "pygments_lexer": "ipython3",
   "version": "3.11.5"
  }
 },
 "nbformat": 4,
 "nbformat_minor": 2
}
